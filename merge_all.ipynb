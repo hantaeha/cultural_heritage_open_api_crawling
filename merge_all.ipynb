{
 "cells": [
  {
   "cell_type": "code",
   "execution_count": 1,
   "metadata": {},
   "outputs": [],
   "source": [
    "import pandas as pd"
   ]
  },
  {
   "cell_type": "code",
   "execution_count": 2,
   "metadata": {},
   "outputs": [],
   "source": [
    "seoul = pd.read_csv('./csv_list/서울.csv')\n",
    "busan = pd.read_csv('./csv_list/부산.csv')\n",
    "daegu = pd.read_csv('./csv_list/대구.csv')\n",
    "incheon = pd.read_csv('./csv_list/인천.csv')\n",
    "gwangju = pd.read_csv('./csv_list/광주.csv')\n",
    "daejeon = pd.read_csv('./csv_list/대전.csv')\n",
    "ulsan = pd.read_csv('./csv_list/울산.csv')\n",
    "sejong = pd.read_csv('./csv_list/세종.csv')\n",
    "gyeonggi = pd.read_csv('./csv_list/경기.csv')\n",
    "gangwon = pd.read_csv('./csv_list/강원.csv')\n",
    "chungbuk = pd.read_csv('./csv_list/충북.csv')\n",
    "chungnam = pd.read_csv('./csv_list/충남.csv')\n",
    "jeonbuk = pd.read_csv('./csv_list/전북.csv')\n",
    "jeonnam = pd.read_csv('./csv_list/전남.csv')\n",
    "gyeongbuk = pd.read_csv('./csv_list/경북.csv')\n",
    "gyeongnam = pd.read_csv('./csv_list/경남.csv')\n",
    "jeju = pd.read_csv('./csv_list/제주.csv')\n",
    "ilwon = pd.read_csv('./csv_list/전국일원.csv')\n",
    "#test02 = pd.read_csv('./csv_list/전국일원.csv', header=1)"
   ]
  },
  {
   "cell_type": "code",
   "execution_count": 3,
   "metadata": {},
   "outputs": [],
   "source": [
    "list_final = pd.concat([seoul, busan, daegu, incheon, gwangju, \n",
    "                        daejeon, ulsan, sejong, gyeonggi, gangwon, \n",
    "                        chungbuk, chungnam, jeonbuk, jeonnam, \n",
    "                        gyeongbuk, gyeongnam, jeju, ilwon])"
   ]
  },
  {
   "cell_type": "code",
   "execution_count": 4,
   "metadata": {},
   "outputs": [
    {
     "data": {
      "text/html": "<div>\n<style scoped>\n    .dataframe tbody tr th:only-of-type {\n        vertical-align: middle;\n    }\n\n    .dataframe tbody tr th {\n        vertical-align: top;\n    }\n\n    .dataframe thead th {\n        text-align: right;\n    }\n</style>\n<table border=\"1\" class=\"dataframe\">\n  <thead>\n    <tr style=\"text-align: right;\">\n      <th></th>\n      <th>문화재명</th>\n      <th>시군구명</th>\n      <th>종목</th>\n      <th>경도</th>\n      <th>위도</th>\n      <th>대표이미지</th>\n    </tr>\n  </thead>\n  <tbody>\n    <tr>\n      <th>0</th>\n      <td>서울 숭례문</td>\n      <td>중구</td>\n      <td>국보</td>\n      <td>126.975313</td>\n      <td>37.559975</td>\n      <td>http://www.cha.go.kr/unisearch/images/national...</td>\n    </tr>\n    <tr>\n      <th>1</th>\n      <td>서울 원각사지 십층석탑</td>\n      <td>종로구</td>\n      <td>국보</td>\n      <td>126.988208</td>\n      <td>37.571546</td>\n      <td>http://www.cha.go.kr/unisearch/images/national...</td>\n    </tr>\n    <tr>\n      <th>2</th>\n      <td>서울 북한산 신라 진흥왕 순수비</td>\n      <td>용산구</td>\n      <td>국보</td>\n      <td>126.980350</td>\n      <td>37.524041</td>\n      <td>http://www.cha.go.kr/unisearch/images/national...</td>\n    </tr>\n    <tr>\n      <th>3</th>\n      <td>청자 사자형뚜껑 향로</td>\n      <td>용산구</td>\n      <td>국보</td>\n      <td>126.980350</td>\n      <td>37.524041</td>\n      <td>http://www.cha.go.kr/unisearch/images/national...</td>\n    </tr>\n    <tr>\n      <th>4</th>\n      <td>청자 어룡형 주전자</td>\n      <td>용산구</td>\n      <td>국보</td>\n      <td>126.980350</td>\n      <td>37.524041</td>\n      <td>http://www.cha.go.kr/unisearch/images/national...</td>\n    </tr>\n    <tr>\n      <th>...</th>\n      <td>...</td>\n      <td>...</td>\n      <td>...</td>\n      <td>...</td>\n      <td>...</td>\n      <td>...</td>\n    </tr>\n    <tr>\n      <th>365</th>\n      <td>제주 구 해병훈련시설</td>\n      <td>서귀포시</td>\n      <td>등록문화재</td>\n      <td>126.261733</td>\n      <td>33.227779</td>\n      <td>http://www.cha.go.kr/unisearch/images/register...</td>\n    </tr>\n    <tr>\n      <th>366</th>\n      <td>미카형 증기기관차 304호</td>\n      <td>제주시</td>\n      <td>등록문화재</td>\n      <td>126.491230</td>\n      <td>33.491514</td>\n      <td>http://www.cha.go.kr/unisearch/images/register...</td>\n    </tr>\n    <tr>\n      <th>367</th>\n      <td>제주 대정여자고등학교 실습실(육군 98병원 병동)</td>\n      <td>서귀포시</td>\n      <td>등록문화재</td>\n      <td>126.253035</td>\n      <td>33.229928</td>\n      <td>http://www.cha.go.kr/unisearch/images/register...</td>\n    </tr>\n    <tr>\n      <th>368</th>\n      <td>구 경성제국대학 부속 생약연구소 제주도 시험장</td>\n      <td>서귀포시</td>\n      <td>등록문화재</td>\n      <td>126.587545</td>\n      <td>33.266764</td>\n      <td>http://www.cha.go.kr/unisearch/images/register...</td>\n    </tr>\n    <tr>\n      <th>0</th>\n      <td>산양</td>\n      <td>.</td>\n      <td>천연기념물</td>\n      <td>128.077161</td>\n      <td>38.227657</td>\n      <td>http://www.cha.go.kr/unisearch/images/natural_...</td>\n    </tr>\n  </tbody>\n</table>\n<p>11821 rows × 6 columns</p>\n</div>",
      "text/plain": "                            문화재명  시군구명     종목          경도         위도  \\\n0                         서울 숭례문    중구     국보  126.975313  37.559975   \n1                   서울 원각사지 십층석탑   종로구     국보  126.988208  37.571546   \n2              서울 북한산 신라 진흥왕 순수비   용산구     국보  126.980350  37.524041   \n3                    청자 사자형뚜껑 향로   용산구     국보  126.980350  37.524041   \n4                     청자 어룡형 주전자   용산구     국보  126.980350  37.524041   \n..                           ...   ...    ...         ...        ...   \n365                  제주 구 해병훈련시설  서귀포시  등록문화재  126.261733  33.227779   \n366               미카형 증기기관차 304호   제주시  등록문화재  126.491230  33.491514   \n367  제주 대정여자고등학교 실습실(육군 98병원 병동)  서귀포시  등록문화재  126.253035  33.229928   \n368    구 경성제국대학 부속 생약연구소 제주도 시험장  서귀포시  등록문화재  126.587545  33.266764   \n0                             산양     .  천연기념물  128.077161  38.227657   \n\n                                                 대표이미지  \n0    http://www.cha.go.kr/unisearch/images/national...  \n1    http://www.cha.go.kr/unisearch/images/national...  \n2    http://www.cha.go.kr/unisearch/images/national...  \n3    http://www.cha.go.kr/unisearch/images/national...  \n4    http://www.cha.go.kr/unisearch/images/national...  \n..                                                 ...  \n365  http://www.cha.go.kr/unisearch/images/register...  \n366  http://www.cha.go.kr/unisearch/images/register...  \n367  http://www.cha.go.kr/unisearch/images/register...  \n368  http://www.cha.go.kr/unisearch/images/register...  \n0    http://www.cha.go.kr/unisearch/images/natural_...  \n\n[11821 rows x 6 columns]"
     },
     "execution_count": 4,
     "metadata": {},
     "output_type": "execute_result"
    }
   ],
   "source": [
    "list_final"
   ]
  },
  {
   "cell_type": "code",
   "execution_count": 5,
   "metadata": {},
   "outputs": [
    {
     "data": {
      "text/plain": "11821"
     },
     "execution_count": 5,
     "metadata": {},
     "output_type": "execute_result"
    }
   ],
   "source": [
    "len(list_final)"
   ]
  },
  {
   "cell_type": "code",
   "execution_count": 6,
   "metadata": {},
   "outputs": [],
   "source": [
    "list_final.to_csv('./csv_list/전국.csv', index=False)"
   ]
  },
  {
   "cell_type": "code",
   "execution_count": null,
   "metadata": {},
   "outputs": [],
   "source": []
  },
  {
   "cell_type": "code",
   "execution_count": null,
   "metadata": {},
   "outputs": [],
   "source": []
  },
  {
   "cell_type": "code",
   "execution_count": null,
   "metadata": {},
   "outputs": [],
   "source": []
  }
 ],
 "metadata": {
  "kernelspec": {
   "display_name": "Python 3.8.5 64-bit ('base': conda)",
   "name": "python385jvsc74a57bd0496733963fa2d69b20223681593ada9ff30cdff12d27f980240c725d2db50d9e"
  },
  "language_info": {
   "codemirror_mode": {
    "name": "ipython",
    "version": 3
   },
   "file_extension": ".py",
   "mimetype": "text/x-python",
   "name": "python",
   "nbconvert_exporter": "python",
   "pygments_lexer": "ipython3",
   "version": "3.8.5"
  },
  "metadata": {
   "interpreter": {
    "hash": "496733963fa2d69b20223681593ada9ff30cdff12d27f980240c725d2db50d9e"
   }
  },
  "orig_nbformat": 2
 },
 "nbformat": 4,
 "nbformat_minor": 2
}